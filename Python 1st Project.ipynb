{
  "nbformat": 4,
  "nbformat_minor": 0,
  "metadata": {
    "colab": {
      "provenance": [],
      "authorship_tag": "ABX9TyMFVDZFS/kpYeYxf/g6XKxu",
      "include_colab_link": true
    },
    "kernelspec": {
      "name": "python3",
      "display_name": "Python 3"
    },
    "language_info": {
      "name": "python"
    }
  },
  "cells": [
    {
      "cell_type": "markdown",
      "metadata": {
        "id": "view-in-github",
        "colab_type": "text"
      },
      "source": [
        "<a href=\"https://colab.research.google.com/github/Vikas-Makhloga/Github-Repository/blob/main/Python%201st%20Project.ipynb\" target=\"_parent\"><img src=\"https://colab.research.google.com/assets/colab-badge.svg\" alt=\"Open In Colab\"/></a>"
      ]
    },
    {
      "cell_type": "code",
      "execution_count": 7,
      "metadata": {
        "colab": {
          "base_uri": "https://localhost:8080/"
        },
        "id": "qZDbz_cnwFtj",
        "outputId": "3c81c5bd-2ba8-48fd-d7d2-bc3216a3917a"
      },
      "outputs": [
        {
          "output_type": "stream",
          "name": "stdout",
          "text": [
            "Enter the first side of triangle 56\n",
            "Enter the second side of triangle 56\n",
            "Enter the third side of triangle 87\n",
            "The triangle is Scalene Triangle\n"
          ]
        }
      ],
      "source": [
        "# Task 1 Write a Python Program classify_triangle that takes the lengths of the three sides of a triangle as input and returns a string that \n",
        "# describes the type of the triangle. The function should return one of the following strings: \"equilateral\", \"isosceles\", \"scalene\", or \"not a triangle\".\n",
        "\n",
        "A = int(input(\"Enter the first side of triangle \"))\n",
        "B = int(input(\"Enter the second side of triangle \"))\n",
        "C = int(input(\"Enter the third side of triangle \"))\n",
        "\n",
        "if A==B==C:\n",
        "  print(\"The triangle is Equilateral triangle\")\n",
        "elif A==B or A==C:\n",
        "  print(\"The triangle is Scalene Triangle\")\n",
        "elif A!=B!=C and (A+B >C and B+C>A and C+A>B):\n",
        "  print(\"The triangle is Isosceles triangle\")\n",
        "else:\n",
        "  print(\"The triangle is not a valid triangle\")\n",
        "  "
      ]
    },
    {
      "cell_type": "code",
      "source": [
        "# Task 2 Write a Python Program check_leap_year that takes a year as input and returns True if the year is a leap year, and False otherwise.\n",
        "# A year is a leap year if it is divisible by 4, unless it is divisible by 100. However, if a year is divisible by 100 and also divisible by 400, \n",
        "# then it is a leap year.\n",
        "\n",
        "print(\"Lets create a program to find the leap year\")\n",
        "\n",
        "leap_year = int(input(\"Please enter the year \"))\n",
        "\n",
        "if leap_year % 4 == 0:\n",
        "  print(\"True\")\n",
        "else:\n",
        "  if leap_year % 100 ==0:\n",
        "    if leap_year % 400 ==0:\n",
        "      print(\"true\")\n",
        "    else:\n",
        "      print(\"False\")\n",
        "  else:\n",
        "    print(\"False\")\n"
      ],
      "metadata": {
        "colab": {
          "base_uri": "https://localhost:8080/"
        },
        "id": "K0sDYrhWzuHu",
        "outputId": "25a40c25-ad52-4bbf-f11c-600866c21d3a"
      },
      "execution_count": 31,
      "outputs": [
        {
          "output_type": "stream",
          "name": "stdout",
          "text": [
            "Lets create a program to find the leap year\n",
            "Please enter the year 2024\n",
            "True\n"
          ]
        }
      ]
    },
    {
      "cell_type": "code",
      "source": [
        "# Task 3 Write a Python Program get_tax that takes a taxable income as input and returns the corresponding tax amount using the following scale:\n",
        "# $0 <= income <= $10,000: No tax\n",
        "# $10,001 <= income <= $50,000: 10% tax\n",
        "# $50,001 <= income <= $100,000: 20% tax\n",
        "# income > $100,000: 30% tax\n",
        "\n",
        "#elif method\n",
        "\n",
        "print(\"To find the tax amount to be paid please provide the details asked below\")\n",
        "\n",
        "name = input(\"Please Enter your name: \")\n",
        "get_tax = int(input(\"Please enter your total income: \"))\n",
        "\n",
        "if get_tax >= 0 and get_tax <= 10000:\n",
        "  print(\"Congratulation, Total taxable amount is zero\")\n",
        "elif get_tax >= 10001 and get_tax <= 50000:\n",
        "  print(\"Please pay the tax\", get_tax*.10)\n",
        "elif get_tax >= 50001 and get_tax <= 100000:\n",
        "  print(\"Please pay the tax\", get_tax*.20)\n",
        "else:\n",
        "  print(\"Please pay the tax\", get_tax*.30)  \n"
      ],
      "metadata": {
        "colab": {
          "base_uri": "https://localhost:8080/"
        },
        "id": "IsisqKXnGykJ",
        "outputId": "e113d313-8c78-4253-ef08-787b4c79fc2d"
      },
      "execution_count": 6,
      "outputs": [
        {
          "output_type": "stream",
          "name": "stdout",
          "text": [
            "To find the tax amount to be paid please provide the details asked below\n",
            "Please Enter your name: Vikas \n",
            "Please enter your total income: -4500\n",
            "Please pay the tax -1350.0\n"
          ]
        }
      ]
    },
    {
      "cell_type": "code",
      "source": [
        "# if-if-else method\n",
        "name = input(\"Please Enter your name: \")\n",
        "get_tax = int(input(\"Please enter your total income: \"))\n",
        "\n",
        "if get_tax >= 0:\n",
        "  if get_tax >=10001:\n",
        "    if get_tax >=50001:\n",
        "      if get_tax >=100001:\n",
        "        print(\"You fall under 30% tax bracket\")\n",
        "        print(\"Total tax as per your income is: \", get_tax * .30)\n",
        "      else:\n",
        "        print(\"You fall under 20% tax bracket\")\n",
        "        print(\"Total tax as per your income is: \", get_tax * .20)\n",
        "    else:\n",
        "      print(\"You fall under 10% tax bracket\")\n",
        "      print(\"Total tax as per your income is: \", get_tax * .10)\n",
        "  else:\n",
        "    print(\"Congratulation you do not fall under taxable income bracket\")\n"
      ],
      "metadata": {
        "colab": {
          "base_uri": "https://localhost:8080/"
        },
        "id": "UEc4uM2DKK-1",
        "outputId": "0a0787e6-f99b-48e9-ec79-62f693597bc4"
      },
      "execution_count": 12,
      "outputs": [
        {
          "output_type": "stream",
          "name": "stdout",
          "text": [
            "Please enter your total income: 456231\n",
            "You fall under 30% tax bracket\n",
            "Total tax as per your income is:  136869.3\n"
          ]
        }
      ]
    },
    {
      "cell_type": "code",
      "source": [
        "# Task 4 Write a Python Program classify_age that takes an age as input and returns a string that describes the age group the person belongs \n",
        "# to using the following scale:\n",
        "# age <= 12: \"Child\"\n",
        "# 13 <= age <= 19: \"Teenager\"\n",
        "# 20 <= age <= 64: \"Adult\"\n",
        "# age >= 65: \"Senior\"\n",
        "\n",
        "#if-if-else method\n",
        "\n",
        "print(\"To create a program to classify the person according to their age group please provide the details asked below\")\n",
        "classify_age = int(input(\"Please enter your age: \"))\n",
        "\n",
        "if classify_age <= 64:\n",
        "  if classify_age <= 19:\n",
        "    if classify_age <= 12:\n",
        "      print(\"You are an Child\")\n",
        "    else:\n",
        "      print(\"You are a Teenager\")\n",
        "  else:\n",
        "    print(\"You are a Adult\")\n",
        "else:\n",
        "  print(\"You are a Senior Citizen\")          \n",
        "\n"
      ],
      "metadata": {
        "colab": {
          "base_uri": "https://localhost:8080/"
        },
        "id": "6HNfJltuMYPm",
        "outputId": "dd39dc0a-a1d9-4e2b-bd14-76ff7141e790"
      },
      "execution_count": 19,
      "outputs": [
        {
          "output_type": "stream",
          "name": "stdout",
          "text": [
            "To create a program to classify the person according to their age group please provide the details asked below\n",
            "Please enter your age: 55\n",
            "You are a Adult\n"
          ]
        }
      ]
    },
    {
      "cell_type": "code",
      "source": [
        "# Elif Method\n",
        "\n",
        "print(\"To create a program to classify the person according to their age group please provide the details asked below\")\n",
        "\n",
        "classify_age = int(input(\"Please enter your age: \"))\n",
        "\n",
        "if classify_age <= 64 and classify_age >= 20:\n",
        "  print(\"You are a Adult\")\n",
        "elif classify_age <= 19 and classify_age >=13:\n",
        "  print(\"You are a Teenager\")\n",
        "elif classify_age <= 12:\n",
        "      print(\"You are an Child\")      \n",
        "else:\n",
        "  print(\"You are a Senior Citizen\")          "
      ],
      "metadata": {
        "colab": {
          "base_uri": "https://localhost:8080/"
        },
        "id": "vr2CUjmQPd21",
        "outputId": "56a918ca-d753-4ba6-9baf-fc7032821dd2"
      },
      "execution_count": 23,
      "outputs": [
        {
          "output_type": "stream",
          "name": "stdout",
          "text": [
            "To create a program to classify the person according to their age group please provide the details asked below\n",
            "Please enter your age: 66\n",
            "You are a Senior Citizen\n"
          ]
        }
      ]
    },
    {
      "cell_type": "code",
      "source": [
        "# Task 5 Write a Python Program calculate_hypotenuse that takes the length of two sides of a right triangle and returns the length of the hypotenuse, \n",
        "# using the Pythagorean theorem:\n",
        "# h^2 = a^2 + b^2\n",
        "# Where h is the length of the hypotenuse, and a and b are the lengths of the other two sides.\n",
        "\n",
        "print(\"Right Angle triangle is a triangle whose square of length of Hypotenuse is equal to the sum of square of other two side\")\n",
        "import math as M\n",
        "A = int(input(\"Enter the length of 1st side: \"))\n",
        "B = int(input(\"Enter the length of 2nd side: \"))\n",
        "\n",
        "H = M.sqrt(A**2 + B**2)\n",
        "print(\"The length of Hypotenuse is: \", H) \n"
      ],
      "metadata": {
        "colab": {
          "base_uri": "https://localhost:8080/"
        },
        "id": "9Yh5D_3BQK5u",
        "outputId": "9e4af5fe-4687-4e20-de60-36afa1c967a4"
      },
      "execution_count": 37,
      "outputs": [
        {
          "output_type": "stream",
          "name": "stdout",
          "text": [
            "Right Angle triangle is a triangle whose square of length of Hypotenuse is equal to the sum of square of other two side\n",
            "Enter the length of 1st side: 12\n",
            "Enter the length of 2nd side: 13\n",
            "The length of Hypotenuse is:  17.69180601295413\n"
          ]
        }
      ]
    }
  ]
}